{
 "cells": [
  {
   "cell_type": "markdown",
   "id": "979923b5-0493-4768-ad1a-06db54f0bc7a",
   "metadata": {},
   "source": [
    "# Final Project Notebook\n",
    "\n",
    "DS 5001 Text as Data | Spring 2025"
   ]
  },
  {
   "cell_type": "markdown",
   "id": "7046f57f-12ed-4259-be3d-60cb67b8d044",
   "metadata": {},
   "source": [
    "# Metadata\n",
    "\n",
    "- Full Name: Vishwanath Premanand Guruvayur\n",
    "- Userid: qtf7du\n",
    "- GitHub Repo URL: https://github.com/vishugp/Mahabharata_ETA\n",
    "- UVA Box URL: -"
   ]
  },
  {
   "cell_type": "markdown",
   "id": "57acd11d-eb04-4bcc-b115-f205f367de49",
   "metadata": {},
   "source": [
    "# Overview\n",
    "\n",
    "The goal of the final project is for you to create a **digital analytical edition** of a corpus using the tools, practices, and perspectives you’ve learning in this course. You will select a corpus that has already been digitized and transcribed, parse that into an F-compliant set of tables, and then generate and visualize the results of a series of fitted models. You will also draw some tentative conclusions regarding the linguistic, cultural, psychological, or historical features represented by your corpus. The point of the exercise is to have you work with a corpus through the entire pipeline from ingestion to interpretation. \n",
    "\n",
    "Specifically, you will acquire a collection of long-form texts and perform the following operations:\n",
    "\n",
    "- **Convert** the collection from their source formats (F0) into a set of tables that conform to the Standard Text Analytic Data Model (F2).\n",
    "- **Annotate** these tables with statistical and linguistic features using ETA libraries such as NLTK (F3).\n",
    "- **Produce** a vector representation of the corpus to generate TFIDF values to add to the TOKEN (aka CORPUS) and VOCAB tables (F4).\n",
    "- **Model** the annotated and vectorized model with tables and features derived from the application of unsupervised methods, including PCA, LDA, and word2vec (F5).\n",
    "- **Explore** your results using statistical and visual methods.\n",
    "- **Present** conclusions about patterns observed in the corpus by means of these operations.\n",
    "\n",
    "When you are finished, you will make the results of your work available in GitHub (for code) and UVA Box (for data). You will submit to Gradescope (via Canvas) a PDF version of a Jupyter notebook that contains the information listed below.\n",
    "\n",
    "# Some Details\n",
    "\n",
    "- Please fill out your answers in each task below by editing the markdown cell. \n",
    "- Replace text that asks you to insert something with the thing, i.e. replace `(INSERT IMAGE HERE)` with an image element, e.g. `![](image.png)`.\n",
    "- For URLs, just paste the raw URL directly into the text area. Don't worry about providing link labels using `[label](link)`.\n",
    "- Please do not alter the structure of the document or cell, i.e. the bulleted lists. \n",
    "- You may add explanatory paragraphs below the bulleted lists.\n",
    "- Please name your tables as they are named in each task below.\n",
    "- Tasks are indicated by headers with point values in parentheses."
   ]
  },
  {
   "cell_type": "markdown",
   "id": "568b6d68-e039-4612-858b-29510eeb5365",
   "metadata": {},
   "source": [
    "# Raw Data"
   ]
  },
  {
   "cell_type": "markdown",
   "id": "cb0889de-cd53-4aa5-80b2-a2a39060776a",
   "metadata": {},
   "source": [
    "## Source Description (1)"
   ]
  },
  {
   "cell_type": "markdown",
   "id": "aa9e395a-4b0b-4ba3-9112-80c733998dbe",
   "metadata": {},
   "source": [
    "Provide a brief description of your source material, including its provenance and content. Tell us where you found it and what kind of content it contains.\n",
    "\n",
    "\n",
    "The source material for my project is the Mahabharata corpus, obtained from <a href=\"https://sacred-texts.com/hin/maha/index.htm\">sacred-texts.com</a>, a reputable archive of religious and mythological texts. \n",
    "\n",
    "This version of the Mahabharata is a public domain English translation by Kisari Mohan Ganguli, completed in the late 19th century. It includes all 18 Parvas (books) of the epic, offering a comprehensive narrative of the ancient Indian saga that blends mythology, philosophy, politics, and moral dilemmas. The content spans dialogues, discourses, and stories, including the Bhagavad Gita, and is structured as a prose translation faithful to the Sanskrit original."
   ]
  },
  {
   "cell_type": "markdown",
   "id": "89b507c1-6dc2-44f7-b74c-790d84a48e8c",
   "metadata": {
    "tags": []
   },
   "source": [
    "## Source Features (1)\n",
    "\n",
    "Add values for the following items. (Do this for all following bulleted lists.)\n",
    "\n",
    "- Source URL: https://sacred-texts.com/hin/maha/index.htm\n",
    "- UVA Box URL: https://virginia.box.com/s/ylcbexuohyz8ceq1cft0l420lkvpyhtb\n",
    "- Number of raw documents: 18\n",
    "- Total size of raw documents (e.g. in MB): 14.5 MB\n",
    "- File format(s), e.g. XML, plaintext, etc.: plaintext"
   ]
  },
  {
   "cell_type": "markdown",
   "id": "590e81b1-9f70-47b5-bb25-49be4e76b98b",
   "metadata": {
    "tags": []
   },
   "source": [
    "## Source Document Structure (1)\n",
    "\n",
    "Provide a brief description of the internal structure of each document. That, describe the typical elements found in document and their relation to each other. For example, a corpus of letters might be described as having a date, an addressee, a salutation, a set of content paragraphs, and closing. If they are various structures, state that.\n",
    "\n",
    "\n",
    "Each document corresponds to one of the 18 parvas (books) of the Mahabharata, each of which contains multiple Upa-parvas (sub-books or chapters). Each Upa-parva is further divided into sections, which consist of paragraphs typically structured as English translations of Sanskrit verses. These verses often follow a poetic format and convey narrative, dialogue, or philosophical discourse within the epic."
   ]
  },
  {
   "cell_type": "markdown",
   "id": "10ec4c9f-e101-46fe-ac59-a35a1b148a4b",
   "metadata": {},
   "source": [
    "# Parsed and Annotated Data\n",
    "\n",
    "Parse the raw data into the three core tables of your addition: the `LIB`, `CORPUS`, and `VOCAB` tables.\n",
    "\n",
    "These tables will be stored as CSV files with header rows.\n",
    "\n",
    "You may consider using `|` as a delimitter.\n",
    "\n",
    "Provide the following information for each."
   ]
  },
  {
   "cell_type": "markdown",
   "id": "e9d05ce4-ac5c-43ea-a07b-c4626338f80e",
   "metadata": {},
   "source": [
    "## LIB (2)\n",
    "\n",
    "The source documents the corpus comprises. These may be books, plays, newspaper articles, abstracts, blog posts, etc. \n",
    "\n",
    "Note that these are *not* documents in the sense used to describe a bag-of-words representation of a text, e.g. chapter.\n",
    "\n",
    "- UVA Box URL: https://virginia.box.com/s/mmcb2l34x77en2k87l2cbyrh47vmpjs8\n",
    "- GitHub URL for notebook used to create: https://github.com/vishugp/Mahabharata_ETA/blob/main/notebooks/01_create_F2.ipynb\n",
    "- Delimitter: |\n",
    "- Number of observations: 18\n",
    "- List of features, including at least three that may be used for model summarization (e.g. date, author, etc.): raw_title, timeline, main_theme, broad_theme, key_focus\n",
    "- Average length of each document in characters: 620,384"
   ]
  },
  {
   "cell_type": "markdown",
   "id": "304204a5-00be-46ad-b98b-0d10a9c8ca4b",
   "metadata": {},
   "source": [
    "## CORPUS (2)\n",
    "\n",
    "The sequence of word tokens in the corpus, indexed by their location in the corpus and document structures.\n",
    "\n",
    "- UVA Box URL: https://virginia.box.com/s/a7ep2x9g2aj4vw78rt9kjmu4eguw53cn\n",
    "- GitHub URL for notebook used to create: https://github.com/vishugp/Mahabharata_ETA/blob/main/notebooks/01_create_F2.ipynb\n",
    "- Delimitter: `|`\n",
    "- Number of observations: 2,500,000\n",
    "- OHCO Structure (as delimitted column names): book_id|chap_id|sec_id|para_num|sent_num|token_num\n",
    "- Columns (as delimitted column names, including `token_str`, `term_str`, `pos`, and `pos_group`): pos_tuple|pos|token_str|term_str|pos_group|term_len"
   ]
  },
  {
   "cell_type": "markdown",
   "id": "5ae3214e-e6dd-42d6-842f-555d0058986e",
   "metadata": {},
   "source": [
    "## VOCAB (2)\n",
    "\n",
    "The unique word types (terms) in the corpus.\n",
    "\n",
    "- UVA Box URL:  https://virginia.box.com/s/f61qiaac0s51rzkrgbjrwpoe3fi3ce5z\n",
    "- GitHub URL for notebook used to create: https://github.com/vishugp/Mahabharata_ETA/blob/main/notebooks/01_create_F2.ipynb\n",
    "- Delimitter: `|` \n",
    "- Number of observations: 30,682\n",
    "- Columns (as delimitted names, including `n`, `p`', `i`, `dfidf`, `porter_stem`, `max_pos` and `max_pos_group`, `stop`): n|n_chars|p|i|s|h|stop|stem_porter|stem_snowball|stem_lancaster|max_pos|max_pos_group|n_pos_group|cat_pos_group|n_pos|cat_pos\n",
    "- Note: Your VOCAB may contain ngrams. If so, add a feature for `ngram_length`.\n",
    "- Top 20 significant words in the corpus by DFIDF: vimokshana, jayadhratha, upamanyu, kirata, athlete, sthulakesa, jatugriha, mountainfestival, vakavadha, rituparna, paushya, arjunavanavasa, utanka, pramadvara, ratio, dasarnakas, exit, assiduously, parana, accusation"
   ]
  },
  {
   "cell_type": "markdown",
   "id": "b40dabdc-baae-4408-95bc-2f735824d59b",
   "metadata": {},
   "source": [
    "# Derived Tables"
   ]
  },
  {
   "cell_type": "markdown",
   "id": "49f2ef9c-1cb5-41e8-a5ee-1e37428b4539",
   "metadata": {},
   "source": [
    "## BOW (3)\n",
    "\n",
    "A bag-of-words representation of the CORPUS.\n",
    "\n",
    "- UVA Box URL: https://virginia.box.com/s/8y851qllyz5nh2i44cuh4dacatcmqbvm\n",
    "- GitHub URL for notebook used to create: https://github.com/vishugp/Mahabharata_ETA/blob/main/notebooks/02_TFIDF.ipynb\n",
    "- Delimitter: `|`\n",
    "- Bag (expressed in terms of OHCO levels): book_id, chap_id (OHCO[:2])\n",
    "- Number of observations: 245,040\n",
    "- Columns (as delimitted names, including `n`, `tfidf`): book_id|chap_id|term_str|n|tf|tfidf"
   ]
  },
  {
   "cell_type": "markdown",
   "id": "29890d2f-bf96-43ad-8d08-792393830163",
   "metadata": {
    "tags": []
   },
   "source": [
    "## DTM (3)\n",
    "\n",
    "A represenation of the BOW as a sparse count matrix.\n",
    "\n",
    "- UVA Box URL: https://virginia.box.com/s/rlhiab3wno4crd2zzscts8xyvzeg2vhs\n",
    "- UVA Box URL of BOW used to generate (if applicable): https://virginia.box.com/s/8y851qllyz5nh2i44cuh4dacatcmqbvm\n",
    "- GitHub URL for notebook used to create: https://github.com/vishugp/Mahabharata_ETA/blob/main/notebooks/02_TFIDF.ipynb\n",
    "- Delimitter: `|` \n",
    "- Bag (expressed in terms of OHCO levels): book_id|chap_id (OHCO[:2])"
   ]
  },
  {
   "cell_type": "markdown",
   "id": "8b4b4774-7c76-401d-a9de-2704f28a0821",
   "metadata": {},
   "source": [
    "## TFIDF (3)\n",
    "\n",
    "A Document-Term matrix with TFIDF values.\n",
    "\n",
    "- UVA Box URL: https://virginia.box.com/s/nv8bkqnerwgh7zoo9kja92rw3oigy4xs\n",
    "- UVA Box URL of DTM or BOW used to create: https://virginia.box.com/s/8y851qllyz5nh2i44cuh4dacatcmqbvm\n",
    "- GitHub URL for notebook used to create: https://github.com/vishugp/Mahabharata_ETA/blob/main/notebooks/02_TFIDF.ipynb\n",
    "- Delimitter: `|` \n",
    "- Description of TFIDIF formula ($\\LaTeX$ OK): Sum for TF and Standard IDF\n",
    "  \n",
    "$$\n",
    "\\text{TFIDF}_{t,d} = \\left( \\frac{f_{t,d}}{\\sum_{t' \\in d} f_{t',d}} \\right) \\cdot \\log_2 \\left( \\frac{N}{\\text{DF}_t} \\right)\n",
    "$$"
   ]
  },
  {
   "cell_type": "markdown",
   "id": "fd34f5ca-5361-4701-b9dd-9da66859b40b",
   "metadata": {
    "tags": []
   },
   "source": [
    "## Reduced and Normalized TFIDF_L2 (3)"
   ]
  },
  {
   "cell_type": "markdown",
   "id": "5c548dd2-f692-4365-936c-39c84df79b90",
   "metadata": {
    "tags": []
   },
   "source": [
    "A Document-Term matrix with L2 normalized TFIDF values.\n",
    "\n",
    "- UVA Box URL: https://virginia.box.com/s/72u8aqo5sxlet2wusagthwo4849jqhlk\n",
    "- UVA Box URL of source TFIDF table: https://virginia.box.com/s/nv8bkqnerwgh7zoo9kja92rw3oigy4xs\n",
    "- GitHub URL for notebook used to create: https://github.com/vishugp/Mahabharata_ETA/blob/main/notebooks/02_TFIDF.ipynb\n",
    "- Delimitter: `|` \n",
    "- Number of features (i.e. significant words): 3080\n",
    "- Principle of significant word selection: I have shortlisted terms based on their entropy (dh) values. Only terms with dh values above the 90th percentile (top 10 percentile most informative terms) are considered significant."
   ]
  },
  {
   "cell_type": "markdown",
   "id": "7c50da94-af36-4e8d-b1a7-24dbcf431880",
   "metadata": {},
   "source": [
    "# Models"
   ]
  },
  {
   "cell_type": "markdown",
   "id": "9df79264-dd93-4199-be38-db31579b7ce8",
   "metadata": {},
   "source": [
    "## PCA Components (4)\n",
    "\n",
    "- UVA Box URL: https://virginia.box.com/s/4vkmqap2xxju345zm78xm7x0n5sos2eb\n",
    "- UVA Box URL of the source TFIDF_L2 table: https://virginia.box.com/s/72u8aqo5sxlet2wusagthwo4849jqhlk\n",
    "- GitHub URL for notebook used to create: https://github.com/vishugp/Mahabharata_ETA/blob/main/notebooks/03_PCA.ipynb\n",
    "- Delimitter: `|`\n",
    "- Number of components: 10\n",
    "- Library used to generate: Scikit-Learn - Decomposition\n",
    "\n",
    "\n",
    "- Top 5 positive terms for first component: `shafts carwarriors pierced sanjaya army`  (Depicting War)\n",
    "- Top 5 negative terms for second component: `deities vidura penances vyasa brahman` (Depicting  peace and spirituality)"
   ]
  },
  {
   "cell_type": "markdown",
   "id": "73adc882-cbce-4d24-9923-5d36ac609f43",
   "metadata": {
    "tags": []
   },
   "source": [
    "## PCA DCM (4)\n",
    "\n",
    "The document-component matrix generated.\n",
    "\n",
    "- UVA Box URL: https://virginia.box.com/s/gvyru078aaoshrm16a3hdkqla4gc5cxj\n",
    "- GitHub URL for notebook used to create: https://github.com/vishugp/Mahabharata_ETA/blob/main/notebooks/03_PCA.ipynb\n",
    "- Delimitter: `|`"
   ]
  },
  {
   "cell_type": "markdown",
   "id": "b3fd2a4a-7f2f-4259-a5c4-063168cb1b14",
   "metadata": {
    "tags": []
   },
   "source": [
    "## PCA Loadings (4)\n",
    "\n",
    "The component-term matrix generated.\n",
    "\n",
    "- UVA Box URL: https://virginia.box.com/s/ej8lmbqx00p5s3040gomr0e53mzbv2ok\n",
    "- GitHub URL for notebook used to create: https://github.com/vishugp/Mahabharata_ETA/blob/main/notebooks/03_PCA.ipynb\n",
    "- Delimitter: `|`"
   ]
  },
  {
   "cell_type": "markdown",
   "id": "84fff42f-6665-4941-ba3d-034627dc0124",
   "metadata": {},
   "source": [
    "## PCA Visualization 1 (4)\n",
    "\n",
    "Include a scatterplot of documents in the space created by the first two components.\n",
    "\n",
    "Color the points based on a metadata feature associated with the documents.\n",
    "\n",
    "Also include a scatterplot of the loadings for the same two components. (This does not need a feature mapped onto color.)\n",
    "\n",
    "<img src=\"https://raw.githubusercontent.com/vishugp/Mahabharata_ETA/main/images/pca01pcs.png\" height=\"600\"/>\n",
    "\n",
    "<img src=\"https://raw.githubusercontent.com/vishugp/Mahabharata_ETA/main/images/pca01loadings.png\" height=\"600\"/>\n",
    "\n",
    "Briefly describe the nature of the polarity you see in the first component:\n",
    "\n",
    "The first component very well distinguishes between the war and non-war parts of the saga. We see the War Timeline in the Positive PC1 whereas the Pre and Post War test in the Negative PC1. Looking at the loadings, we observe ancient war related terms like shafts, carwarriors, pierced, rushed, army, etc. in the positive PC1. On the other hand, we see words like deities, righteuosness, penances, brahman, etc. on the negative PC1 which is starkly oppositve from war and describes spirituality and peace."
   ]
  },
  {
   "cell_type": "markdown",
   "id": "2eb54565-7669-4a2f-90b2-a4c283277c02",
   "metadata": {},
   "source": [
    "## PCA Visualization 2 (4)\n",
    "\n",
    "Include a scatterplot of documents in the space created by the second two components.\n",
    "\n",
    "Color the points based on a metadata feature associated with the documents.\n",
    "\n",
    "Also include a scatterplot of the loadings for the same two components. (This does not need a feature mapped onto color.)\n",
    "\n",
    "<img src=\"https://raw.githubusercontent.com/vishugp/Mahabharata_ETA/main/images/pca12pcs.png\" height=\"600\"/>\n",
    "\n",
    "<img src=\"https://raw.githubusercontent.com/vishugp/Mahabharata_ETA/main/images/pca12loadings.png\" height=\"600\"/>\n",
    "\n",
    "Briefly describe the nature of the polarity you see in the second component:\n",
    "\n",
    "The second component does something similar to the first component but this time it separates the Pre-War parts in the positive PC2 and the War and Post War text in the negative PC2. Looking at the loadings, it is interesting to note that the positive PC2 words are rakshasa, jarasandha, virata, sisupala, etc. which are antagonistic characters in the story whereas the negative PC2 again has words like deities, righteuosness, penances, brahman, etc. while this time these can be interpreted as supportive/protagonistic characters."
   ]
  },
  {
   "cell_type": "markdown",
   "id": "d3ee23b2-25d1-4226-bf31-1607e5ed4677",
   "metadata": {
    "tags": []
   },
   "source": [
    "## LDA TOPIC (4)\n",
    "\n",
    "- UVA Box URL: https://virginia.box.com/s/b1fj1n789v9rfm5yitozin34qeshp50e\n",
    "- UVA Box URL of count matrix used to create: https://virginia.box.com/s/we7sh2hlvfutett35r6clnw5r6qdqx4s\n",
    "- GitHub URL for notebook used to create: https://github.com/vishugp/Mahabharata_ETA/blob/main/notebooks/04_LDA.ipynb\n",
    "- Delimitter: `|`\n",
    "- Libary used to compute: \n",
    "  - ScikitLearn - (CountVectorizer from sklearn.feature_extraction.text, LatentDirichletAllocation from sklearn.decomposition)\n",
    "- A description of any filtering, e.g. POS (Nouns and Verbs only):\n",
    "  - Removing stop words and archaic english words like 'thou', 'thee', 'hath', 'thy', 'art', 'ye', 'hast'\n",
    "- Number of components: 10\n",
    "- Any other parameters used: Max 100 Iterations, n_terms = 1008\n",
    "- Top 5 words and best-guess labels for topic five topics by mean document weight:\n",
    "  - T00: words race battle virtue kings\n",
    "  - T01: acts knowledge mind creatures body\n",
    "  - T02: weapons weapon energy gods celestials\n",
    "  - T03: kings race monarch wealth city\n",
    "  - T04: person life duties wealth world"
   ]
  },
  {
   "cell_type": "markdown",
   "id": "a518d520-4a5c-48fa-836d-f8ea3e3c2f06",
   "metadata": {
    "tags": []
   },
   "source": [
    "## LDA THETA (4)\n",
    "\n",
    "- UVA Box URL: https://virginia.box.com/s/zbwlqftu5tikpgrlw3u7mz9b04xymjry\n",
    "- GitHub URL for notebook used to create: https://github.com/vishugp/Mahabharata_ETA/blob/main/notebooks/04_LDA.ipynb\n",
    "- Delimitter: `|`"
   ]
  },
  {
   "cell_type": "markdown",
   "id": "f8808b30-64f4-4249-95d5-d7c0925ce432",
   "metadata": {
    "tags": []
   },
   "source": [
    "## LDA PHI (4)\n",
    "\n",
    "- UVA Box URL: https://virginia.box.com/s/gd5filhnc6gmp3g61dru5maolc20xkvb\n",
    "- GitHub URL for notebook used to create: https://github.com/vishugp/Mahabharata_ETA/blob/main/notebooks/04_LDA.ipynb\n",
    "- Delimitter: `|`"
   ]
  },
  {
   "cell_type": "markdown",
   "id": "18e404bf-8a2a-4eb4-ba89-0c708c8f359d",
   "metadata": {},
   "source": [
    "## LDA + PCA Visualization (4)\n",
    "\n",
    "Apply PCA to the Theta table and plot the topics in the space opened by the first two components.\n",
    "\n",
    "Size the points based on the mean document weight of each topic (using the THETA table).\n",
    "\n",
    "Color the points basd on a metadata feature from the LIB table.\n",
    "\n",
    "Provide a brief interpretation of what you see.\n",
    "\n",
    "<img src=\"https://raw.githubusercontent.com/vishugp/Mahabharata_ETA/main/images/theta_pca_loadings.png\" height=\"600\"/>\n",
    "<img src=\"https://raw.githubusercontent.com/vishugp/Mahabharata_ETA/main/images/theta_pca_pcs.png\" height=\"600\"/>\n",
    "\n",
    "The PCA on the Theta Table gives us interestingly similar results to our previous PCA analysis. We get the topics which are more related to battle and war in the positive first Principal Component like Topic 9, 7 and 2 whereas on the other extreme PC we have topics 5 and 3 which relate to domesticity and kingdom related topics.\n",
    "\n",
    "The PCS when augmented with the timeline of the of the narration also shows that Positive PC1 is all War related timeline whereas negative PC1 is Pre and Post War narration."
   ]
  },
  {
   "cell_type": "markdown",
   "id": "a7e1f327-a386-476a-8d94-2ab7a63afa7a",
   "metadata": {},
   "source": [
    "## Sentiment VOCAB_SENT (4)\n",
    "\n",
    "Sentiment values associated with a subset of the VOCAB from a curated sentiment lexicon.\n",
    "\n",
    "- UVA Box URL: https://virginia.box.com/s/ijykn00uike9gcs0ddqmium39gqlumr1\n",
    "- UVA Box URL for source lexicon: https://virginia.box.com/s/vo8t6payde8znrk3eatye8g5fb0r5cr2\n",
    "- GitHub URL for notebook used to create: https://github.com/vishugp/Mahabharata_ETA/blob/main/notebooks/05_Sentiment_Analysis.ipynb\n",
    "- Delimitter: `|`"
   ]
  },
  {
   "cell_type": "markdown",
   "id": "fa8a9d67-1560-4be9-b82a-b99a60b5c93e",
   "metadata": {
    "tags": []
   },
   "source": [
    "## Sentiment BOW_SENT (4)\n",
    "\n",
    "Sentiment values from VOCAB_SENT mapped onto BOW.\n",
    "\n",
    "- UVA Box URL: https://virginia.box.com/s/bu6vw0sjtutnllvk3xh60k52my33iaxk\n",
    "- GitHub URL for notebook used to create: https://github.com/vishugp/Mahabharata_ETA/blob/main/notebooks/05_Sentiment_Analysis.ipynb\n",
    "- Delimitter: `|`"
   ]
  },
  {
   "cell_type": "markdown",
   "id": "d6ee6837-b12e-453d-96c1-59eaa4b28883",
   "metadata": {},
   "source": [
    "## Sentiment DOC_SENT (4)\n",
    "\n",
    "Computed sentiment per bag computed from BOW_SENT.\n",
    "\n",
    "- UVA Box URL: https://virginia.box.com/s/p1kjetqqmycpcsrj6j9ohfdpmszh4wgu\n",
    "- GitHub URL for notebook used to create: https://github.com/vishugp/Mahabharata_ETA/blob/main/notebooks/05_Sentiment_Analysis.ipynb\n",
    "- Delimitter: `|`\n",
    "- Document bag expressed in terms of OHCO levels: OHCO[:2]  book_id, chap_id"
   ]
  },
  {
   "cell_type": "markdown",
   "id": "7e4cba13-e60a-4940-a06d-02479f002c3c",
   "metadata": {},
   "source": [
    "## Sentiment Plot (4)\n",
    "\n",
    "Plot sentiment over some metric space, such as time.\n",
    "\n",
    "If you don't have a metric metadata features, plot sentiment over a feature of your choice.\n",
    "\n",
    "You may use a bar chart or a line graph.\n",
    "\n",
    "<img src=\"https://raw.githubusercontent.com/vishugp/Mahabharata_ETA/refs/heads/main/images/SA_Timeline.png\" width=\"1000\"/>"
   ]
  },
  {
   "cell_type": "markdown",
   "id": "4f5d2316-317b-4d95-a804-aff98242e411",
   "metadata": {},
   "source": [
    "## VOCAB_W2V (4)\n",
    "\n",
    "A table of word2vec features associated with terms in the VOCAB table.\n",
    "\n",
    "- UVA Box URL: https://virginia.box.com/s/jhz84zi1yoaqtjnyg64uwvlqn7deb9rb|\n",
    "- GitHub URL for notebook used to create: https://github.com/vishugp/Mahabharata_ETA/blob/main/notebooks/06_Word2Vec.ipynb\n",
    "- Delimitter: `|`\n",
    "- Document bag expressed in terms of OHCO levels: OHCO[:2] - book_id, chap_id\n",
    "- Number of features generated: 200\n",
    "- The library used to generate the embeddings: gensim (word2vec from models and Dictionary from corpora)"
   ]
  },
  {
   "cell_type": "markdown",
   "id": "833c1974-047b-4285-9f4d-7f3314f39542",
   "metadata": {},
   "source": [
    "## Word2vec tSNE Plot (4)\n",
    "\n",
    "Plot word embedding featues in two-dimensions using t-SNE.\n",
    "\n",
    "Describe a cluster in the plot that captures your attention.\n",
    "\n",
    "<img src=\"https://raw.githubusercontent.com/vishugp/Mahabharata_ETA/refs/heads/main/images/tSNE.png\" width=\"1000\"/>\n",
    "\n",
    "\n",
    "<img src=\"https://raw.githubusercontent.com/vishugp/Mahabharata_ETA/refs/heads/main/images/tSNE emotions.png\" width=\"1000\"/>\n",
    "\n",
    "It's good to see that all emotions cluster together in the plot\n",
    "\n",
    "<img src=\"https://raw.githubusercontent.com/vishugp/Mahabharata_ETA/refs/heads/main/images/tSNE warrior.png\" width=\"1000\"/>\n",
    "\n",
    "All warrior terms appear together\n",
    "\n",
    "<img src=\"https://raw.githubusercontent.com/vishugp/Mahabharata_ETA/refs/heads/main/images/tSNE relations.png\" width=\"1000\"/>\n",
    "\n",
    "All human relational terms appear together which is nice."
   ]
  },
  {
   "cell_type": "markdown",
   "id": "75878341-7fe8-4e22-b908-36029f9818e8",
   "metadata": {},
   "source": [
    "# Riffs\n",
    "\n",
    "Provde at least three visualizations that combine the preceding model data in interesting ways.\n",
    "\n",
    "These should provide insight into how features in the LIB table are related. \n",
    "\n",
    "The nature of this relationship is left open to you -- it may be correlation, or mutual information, or something less well defined. \n",
    "\n",
    "In doing so, consider the following visualization types:\n",
    "\n",
    "- Hierarchical cluster diagrams\n",
    "- Heatmaps\n",
    "- Scatter plots\n",
    "- KDE plots\n",
    "- Dispersion plots\n",
    "- t-SNE plots\n",
    "- etc."
   ]
  },
  {
   "cell_type": "markdown",
   "id": "1c62acf1-6bb0-45d0-aed2-863b285f8cad",
   "metadata": {
    "tags": []
   },
   "source": [
    "## Riff 1 (5)\n",
    "\n",
    "<img src=\"https://raw.githubusercontent.com/vishugp/Mahabharata_ETA/refs/heads/main/images/kde_line.png\" width=\"1000\"/>\n",
    "\n",
    "The above plot illustrates the frequency of appearances of key characters throughout the Mahabharata.\n",
    "\n",
    "Notably, Yudhishthira who is the eldest of the Pandavas, shows high density in both the Pre-War and Post-War Phases, reflecting his pivotal role in shaping the events leading to and following the Kurukshetra War. In contrast, Karna who is the warrior born to the Sun God, has a concentrated appearance primarily during the War Phase ending with in his death during the war. \n",
    "\n",
    "Gandhari, the mother of the Kauravas (antagonists) exhibits two distinct peaks in her presence one immediately after Karna’s death and another at the end of the epic when her curse on Krishna comes to fruition and leads to the annihilation of his entire bloodline."
   ]
  },
  {
   "cell_type": "markdown",
   "id": "5067c59b-8983-4acc-972a-1ecd852ded57",
   "metadata": {
    "tags": []
   },
   "source": [
    "## Riff 2 (5)\n",
    "\n",
    "<img src=\"https://raw.githubusercontent.com/vishugp/Mahabharata_ETA/refs/heads/main/images/emotion_heatmap.png\" width=\"1000\"/>\n",
    "\n",
    "The heatmap visualization presents the mean emotional scores for key characters in the Mahabharata, revealing several noteworthy patterns.\n",
    "\n",
    "Characters associated with stronger anger include Bhima, Karna, and Duryodhana which aligns with their narrative roles and temperaments. Bhima and Karna also register the highest fear scores, suggesting significant internal conflict despite their warrior status.\n",
    "\n",
    "Joy appears most prominently in Yudhishthira, Krishna, and Karna demonstrating emotional complexity even among antagonistic characters. Trust scores are highest for Krishna and Yudhishthira which is consistent with Krishna's divine guidance role and Yudhishthira's reputation for honesty.\n",
    "\n",
    "Overall sentiment scores are most negative for Bhima, Karna, and Duryodhana, reflecting their tragic character arcs throughout the epic. Draupadi displays moderate values across emotional categories, representing her multifaceted experiences throughout the narrative.\n",
    "\n",
    "This quantitative analysis interestingly supports the traditional interpretations of these characters while also providing numerical evidence of their emotional complexity. "
   ]
  },
  {
   "cell_type": "markdown",
   "id": "2155a072-02b3-4aa8-b9f1-e43a59e9a85d",
   "metadata": {
    "tags": []
   },
   "source": [
    "## Riff 3 (5)\n",
    "\n",
    "<img src=\"https://raw.githubusercontent.com/vishugp/Mahabharata_ETA/refs/heads/main/images/VADER_characters.png\" width=\"1000\"/>\n",
    "\n",
    "This above plot shows how the sentiment in the text is associated with the character in the scene.\n",
    "\n",
    "In this emotional analysis of the Mahabharata, we see how the protagonist pair (Krishna and Arjuna) and antagonist friends (Duryodhana and Karna) have their sentiment lines dramatically intertwine during the war, especially around Karna's controversial and unjust death.\n",
    "\n",
    "Before the war, Krishna stayed mostly positive while others fluctuated. Duryodhana began negatively but improved over time.\n",
    "During battle, everyone's emotions became unstable and started to overlap, showing how war blurred the lines between heroes and villains.\n",
    "Karna's sentiment drops dramatically around his death scene (65-70k mark), when he was unfairly killed while defenseless—a moment that challenges our sense of right and wrong.\n",
    "After the war, all characters' emotions settle near neutral territory, suggesting that in the end, neither side found true happiness in victory or defeat."
   ]
  },
  {
   "cell_type": "markdown",
   "id": "68e25c6e-2624-4899-829e-e7d60c878685",
   "metadata": {},
   "source": [
    "# Interpretation (4)\n",
    "\n",
    "Describe something interesting about your corpus that you discovered during the process of completing this assignment.\n",
    "\n",
    "At a minumum, use 250 words, but you may use more. You may also add images if you'd like.\n",
    "\n",
    "(INSERT INTERPRETATION HERE)"
   ]
  }
 ],
 "metadata": {
  "kernelspec": {
   "display_name": "Python 3 (ipykernel)",
   "language": "python",
   "name": "python3"
  },
  "language_info": {
   "codemirror_mode": {
    "name": "ipython",
    "version": 3
   },
   "file_extension": ".py",
   "mimetype": "text/x-python",
   "name": "python",
   "nbconvert_exporter": "python",
   "pygments_lexer": "ipython3",
   "version": "3.12.3"
  },
  "toc-autonumbering": true,
  "toc-showmarkdowntxt": false
 },
 "nbformat": 4,
 "nbformat_minor": 5
}
